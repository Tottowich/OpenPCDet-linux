{
 "cells": [
  {
   "cell_type": "code",
   "execution_count": null,
   "metadata": {},
   "outputs": [],
   "source": [
    "import numpy as np\n",
    "import open3d.ml.torch as ml3d"
   ]
  },
  {
   "cell_type": "code",
   "execution_count": null,
   "metadata": {},
   "outputs": [],
   "source": [
    "data = [ {\n",
    "    'name': 'my_point_cloud',\n",
    "    'points': np.random.rand(100,3).astype(np.float32),\n",
    "    'point_attr1': np.random.rand(100).astype(np.float32),\n",
    "    } ]\n",
    "\n",
    "vis = ml3d.vis.Visualizer()\n",
    "vis.visualize(data)"
   ]
  },
  {
   "cell_type": "code",
   "execution_count": null,
   "metadata": {},
   "outputs": [],
   "source": [
    "import open3d as o3d\n",
    "import open3d.visualization.gui as gui\n",
    "\n",
    "app = gui.Application.instance\n",
    "app.initialize()\n",
    "\n",
    "w = app.create_window(\"Open3D - 3D Labels\", 1024, 768)\n",
    "widget3d = gui.SceneWidget()\n",
    "w.add_child(widget3d)\n",
    "widget3d.scene = o3d.visualization.rendering.Open3DScene(w.renderer)\n",
    "\n",
    "# Add torus\n",
    "torus = o3d.geometry.TriangleMesh.create_torus()\n",
    "torus.compute_vertex_normals()\n",
    "#mat = o3d.visualization.rendering.Material()\n",
    "#mat.shader = \"defaultLit\"\n",
    "widget3d.scene.add_geometry(\"Torus\", torus)#, mat)\n",
    "\n",
    "# Add torus vertices\n",
    "pts = o3d.geometry.PointCloud(torus.vertices)\n",
    "#mat = o3d.visualization.rendering.Material()\n",
    "#mat.shader = \"defaultUnlit\"\n",
    "#mat.point_size = 5 * w.scaling\n",
    "#mat.base_color = (0, 0, 0, 1)\n",
    "widget3d.scene.add_geometry(\"Points\", pts)#, mat)\n",
    "\n",
    "\n",
    "# Add 3D labels\n",
    "for i in range(0, len(torus.vertices)):\n",
    "    widget3d.add_3d_label(torus.vertices[i], str(i))\n",
    "\n",
    "bounds = widget3d.scene.bounding_box\n",
    "widget3d.setup_camera(60, bounds, bounds.get_center())\n",
    "\n",
    "app.run()"
   ]
  },
  {
   "cell_type": "code",
   "execution_count": 9,
   "metadata": {},
   "outputs": [
    {
     "name": "stdout",
     "output_type": "stream",
     "text": [
      "Initializied Open3D GUI\n",
      "Initializied Open3D Point Cloud\n",
      "[Open3D INFO] Window window_6 created.\n"
     ]
    },
    {
     "ename": "KeyboardInterrupt",
     "evalue": "",
     "output_type": "error",
     "traceback": [
      "\u001b[0;31m---------------------------------------------------------------------------\u001b[0m",
      "\u001b[0;31mKeyboardInterrupt\u001b[0m                         Traceback (most recent call last)",
      "\u001b[1;32m/home/theodor/Code/XrSynth/OpenPCDet-linux/testing_testing.ipynb Cell 4'\u001b[0m in \u001b[0;36m<cell line: 26>\u001b[0;34m()\u001b[0m\n\u001b[1;32m     <a href='vscode-notebook-cell:/home/theodor/Code/XrSynth/OpenPCDet-linux/testing_testing.ipynb#ch0000003?line=23'>24</a>\u001b[0m     app\u001b[39m.\u001b[39madd_window(vis)\n\u001b[1;32m     <a href='vscode-notebook-cell:/home/theodor/Code/XrSynth/OpenPCDet-linux/testing_testing.ipynb#ch0000003?line=24'>25</a>\u001b[0m     app\u001b[39m.\u001b[39mrun()\n\u001b[0;32m---> <a href='vscode-notebook-cell:/home/theodor/Code/XrSynth/OpenPCDet-linux/testing_testing.ipynb#ch0000003?line=25'>26</a>\u001b[0m high_level()\n",
      "\u001b[1;32m/home/theodor/Code/XrSynth/OpenPCDet-linux/testing_testing.ipynb Cell 4'\u001b[0m in \u001b[0;36mhigh_level\u001b[0;34m()\u001b[0m\n\u001b[1;32m     <a href='vscode-notebook-cell:/home/theodor/Code/XrSynth/OpenPCDet-linux/testing_testing.ipynb#ch0000003?line=21'>22</a>\u001b[0m vis\u001b[39m.\u001b[39mreset_camera_to_default()\n\u001b[1;32m     <a href='vscode-notebook-cell:/home/theodor/Code/XrSynth/OpenPCDet-linux/testing_testing.ipynb#ch0000003?line=23'>24</a>\u001b[0m app\u001b[39m.\u001b[39madd_window(vis)\n\u001b[0;32m---> <a href='vscode-notebook-cell:/home/theodor/Code/XrSynth/OpenPCDet-linux/testing_testing.ipynb#ch0000003?line=24'>25</a>\u001b[0m app\u001b[39m.\u001b[39;49mrun()\n",
      "\u001b[0;31mKeyboardInterrupt\u001b[0m: "
     ]
    }
   ],
   "source": [
    "def make_point_cloud(npts, center, radius):\n",
    "    pts = np.random.uniform(-radius, radius, size=[npts, 3]) + center\n",
    "    cloud = o3d.geometry.PointCloud()\n",
    "    cloud.points = o3d.utility.Vector3dVector(pts)\n",
    "    colors = np.random.uniform(0.0, 1.0, size=[npts, 3])\n",
    "    cloud.colors = o3d.utility.Vector3dVector(colors)\n",
    "    return cloud\n",
    "\n",
    "\n",
    "def high_level():\n",
    "    app = gui.Application.instance\n",
    "    app.initialize()\n",
    "    print(\"Initializied Open3D GUI\")\n",
    "    points = make_point_cloud(1, (0, 0, 0), 1.0)\n",
    "    print(\"Initializied Open3D Point Cloud\")\n",
    "    vis = o3d.visualization.O3DVisualizer(\"Open3D - 3D Text\", 1024, 768)\n",
    "    vis.show_settings = True\n",
    "    vis.add_geometry(\"Points\", points)\n",
    "    for idx in range(0, len(points.points)):\n",
    "        vis.add_3d_label(points.points[idx], \"{}\".format(idx))\n",
    "\n",
    "    vis.reset_camera_to_default()\n",
    "    app.add_window(vis)\n",
    "    app.run()\n",
    "high_level()"
   ]
  },
  {
   "cell_type": "code",
   "execution_count": null,
   "metadata": {},
   "outputs": [],
   "source": []
  }
 ],
 "metadata": {
  "kernelspec": {
   "display_name": "Python 3.9.13 ('env': venv)",
   "language": "python",
   "name": "python3"
  },
  "language_info": {
   "codemirror_mode": {
    "name": "ipython",
    "version": 3
   },
   "file_extension": ".py",
   "mimetype": "text/x-python",
   "name": "python",
   "nbconvert_exporter": "python",
   "pygments_lexer": "ipython3",
   "version": "3.9.13"
  },
  "orig_nbformat": 4,
  "vscode": {
   "interpreter": {
    "hash": "9e808e691a491dbb6771240d1c867d8180cf65a7312da86e6e96bad0ad6dc92c"
   }
  }
 },
 "nbformat": 4,
 "nbformat_minor": 2
}
