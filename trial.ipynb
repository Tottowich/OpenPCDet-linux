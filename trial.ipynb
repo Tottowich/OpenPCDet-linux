{
 "cells": [
  {
   "cell_type": "code",
   "execution_count": 1,
   "metadata": {},
   "outputs": [],
   "source": [
    "import torch\n",
    "import torch.nn as nn\n",
    "import numpy as np"
   ]
  },
  {
   "cell_type": "code",
   "execution_count": 20,
   "metadata": {},
   "outputs": [],
   "source": [
    "class Model(nn.Module):\n",
    "    def __init__(self,inpu_dim,num_class):\n",
    "        super().__init__()\n",
    "        self.num_class = num_class\n",
    "        self.layer1 = nn.Conv2d(inpu_dim, 64, kernel_size=1, stride=1, padding=0,bias = False)\n",
    "        self.act = nn.functional.relu\n",
    "        self.batch_norm1 = nn.BatchNorm2d(64)\n",
    "        self.layer2 = nn.Conv2d(64, 128, kernel_size=1, stride=1, padding=0,bias = False)\n",
    "        self.batch_norm2 = nn.BatchNorm2d(128)\n",
    "        self.layer3 = nn.Conv2d(128, 256, kernel_size=1, stride=1, padding=0)\n",
    "        self.encode = nn.Sequential(self.layer1, self.batch_norm1, self.layer2, self.batch_norm2, self.layer3)\n",
    "    def forward(self, x):\n",
    "        x = self.encode(x)\n",
    "        return x\n"
   ]
  },
  {
   "cell_type": "code",
   "execution_count": 21,
   "metadata": {},
   "outputs": [
    {
     "name": "stdout",
     "output_type": "stream",
     "text": [
      "Hello\n"
     ]
    }
   ],
   "source": [
    "print(\"Hello\")\n",
    "a = np.random.random((100,3))"
   ]
  },
  {
   "cell_type": "code",
   "execution_count": 22,
   "metadata": {},
   "outputs": [
    {
     "name": "stdout",
     "output_type": "stream",
     "text": [
      "torch.Size([100, 256, 1, 1])\n"
     ]
    }
   ],
   "source": [
    "mod = Model(num_class=10, inpu_dim=3).cuda()\n",
    "inp = torch.Tensor(np.random.random((100,3,1,1))).cuda()\n",
    "out = mod(inp)\n",
    "print(out.shape)\n",
    "#out = mod(inp)"
   ]
  },
  {
   "cell_type": "code",
   "execution_count": null,
   "metadata": {},
   "outputs": [],
   "source": []
  }
 ],
 "metadata": {
  "kernelspec": {
   "display_name": "Python 3.6.9 64-bit",
   "language": "python",
   "name": "python3"
  },
  "language_info": {
   "codemirror_mode": {
    "name": "ipython",
    "version": 3
   },
   "file_extension": ".py",
   "mimetype": "text/x-python",
   "name": "python",
   "nbconvert_exporter": "python",
   "pygments_lexer": "ipython3",
   "version": "3.6.9"
  },
  "orig_nbformat": 4,
  "vscode": {
   "interpreter": {
    "hash": "31f2aee4e71d21fbe5cf8b01ff0e069b9275f58929596ceb00d14d90e3e16cd6"
   }
  }
 },
 "nbformat": 4,
 "nbformat_minor": 2
}
