{
 "cells": [
  {
   "cell_type": "code",
   "execution_count": 9,
   "metadata": {},
   "outputs": [
    {
     "name": "stdout",
     "output_type": "stream",
     "text": [
      "Jupyter environment detected. Enabling Open3D WebVisualizer.\n",
      "[Open3D INFO] WebRTC GUI backend enabled.\n",
      "[Open3D INFO] WebRTCWindowSystem: HTTP handshake server disabled.\n"
     ]
    },
    {
     "ename": "Exception",
     "evalue": "Version mismatch: Open3D needs PyTorch version 1.8.*, but version 1.10.0+cu113 is installed!",
     "output_type": "error",
     "traceback": [
      "\u001b[0;31m---------------------------------------------------------------------------\u001b[0m",
      "\u001b[0;31mException\u001b[0m                                 Traceback (most recent call last)",
      "\u001b[1;32m/home/theodor/Code/XrSynth/OpenPCDet-linux/testing_testing.ipynb Cell 1'\u001b[0m in \u001b[0;36m<cell line: 2>\u001b[0;34m()\u001b[0m\n\u001b[1;32m      <a href='vscode-notebook-cell:/home/theodor/Code/XrSynth/OpenPCDet-linux/testing_testing.ipynb#ch0000000?line=0'>1</a>\u001b[0m \u001b[39mimport\u001b[39;00m \u001b[39mnumpy\u001b[39;00m \u001b[39mas\u001b[39;00m \u001b[39mnp\u001b[39;00m\n\u001b[0;32m----> <a href='vscode-notebook-cell:/home/theodor/Code/XrSynth/OpenPCDet-linux/testing_testing.ipynb#ch0000000?line=1'>2</a>\u001b[0m \u001b[39mimport\u001b[39;00m \u001b[39mopen3d\u001b[39;00m\u001b[39m.\u001b[39;00m\u001b[39mml\u001b[39;00m\u001b[39m.\u001b[39;00m\u001b[39mtorch\u001b[39;00m \u001b[39mas\u001b[39;00m \u001b[39mml3d\u001b[39;00m\n",
      "File \u001b[0;32m~/Code/XrSynth/env/lib/python3.9/site-packages/open3d/ml/torch/__init__.py:39\u001b[0m, in \u001b[0;36m<module>\u001b[0;34m\u001b[0m\n\u001b[1;32m     37\u001b[0m     _o3d_torch_version[\u001b[39m2\u001b[39m] \u001b[39m=\u001b[39m \u001b[39m'\u001b[39m\u001b[39m*\u001b[39m\u001b[39m'\u001b[39m  \u001b[39m# Any patch level is OK\u001b[39;00m\n\u001b[1;32m     38\u001b[0m     match_torch_ver \u001b[39m=\u001b[39m \u001b[39m'\u001b[39m\u001b[39m.\u001b[39m\u001b[39m'\u001b[39m\u001b[39m.\u001b[39mjoin(_o3d_torch_version)\n\u001b[0;32m---> 39\u001b[0m     \u001b[39mraise\u001b[39;00m \u001b[39mException\u001b[39;00m(\u001b[39m'\u001b[39m\u001b[39mVersion mismatch: Open3D needs PyTorch version \u001b[39m\u001b[39m{}\u001b[39;00m\u001b[39m, but \u001b[39m\u001b[39m'\u001b[39m\n\u001b[1;32m     40\u001b[0m                     \u001b[39m'\u001b[39m\u001b[39mversion \u001b[39m\u001b[39m{}\u001b[39;00m\u001b[39m is installed!\u001b[39m\u001b[39m'\u001b[39m\u001b[39m.\u001b[39mformat(match_torch_ver,\n\u001b[1;32m     41\u001b[0m                                                       _torch\u001b[39m.\u001b[39m__version__))\n\u001b[1;32m     43\u001b[0m \u001b[39m# Precompiled wheels at\u001b[39;00m\n\u001b[1;32m     44\u001b[0m \u001b[39m# https://github.com/isl-org/open3d_downloads/releases/tag/torch1.8.2\u001b[39;00m\n\u001b[1;32m     45\u001b[0m \u001b[39m# have been compiled with '-Xcompiler -fno-gnu-unique' and have an additional\u001b[39;00m\n\u001b[1;32m     46\u001b[0m \u001b[39m# attribute that we test here. Print a warning if the attribute is missing.\u001b[39;00m\n\u001b[1;32m     47\u001b[0m \u001b[39mif\u001b[39;00m _build_config[\u001b[39m\"\u001b[39m\u001b[39mBUILD_CUDA_MODULE\u001b[39m\u001b[39m\"\u001b[39m] \u001b[39mand\u001b[39;00m \u001b[39mnot\u001b[39;00m \u001b[39mhasattr\u001b[39m(_torch,\n\u001b[1;32m     48\u001b[0m                                                       \u001b[39m\"\u001b[39m\u001b[39m_TORCH_NVCC_FLAGS\u001b[39m\u001b[39m\"\u001b[39m):\n",
      "\u001b[0;31mException\u001b[0m: Version mismatch: Open3D needs PyTorch version 1.8.*, but version 1.10.0+cu113 is installed!"
     ]
    }
   ],
   "source": [
    "import numpy as np\n",
    "import open3d.ml.torch as ml3d"
   ]
  },
  {
   "cell_type": "code",
   "execution_count": null,
   "metadata": {},
   "outputs": [],
   "source": [
    "data = [ {\n",
    "    'name': 'my_point_cloud',\n",
    "    'points': np.random.rand(100,3).astype(np.float32),\n",
    "    'point_attr1': np.random.rand(100).astype(np.float32),\n",
    "    } ]\n",
    "\n",
    "vis = ml3d.vis.Visualizer()\n",
    "vis.visualize(data)"
   ]
  },
  {
   "cell_type": "code",
   "execution_count": null,
   "metadata": {},
   "outputs": [],
   "source": [
    "import open3d as o3d\n",
    "import open3d.visualization.gui as gui\n",
    "\n",
    "app = gui.Application.instance\n",
    "app.initialize()\n",
    "\n",
    "w = app.create_window(\"Open3D - 3D Labels\", 1024, 768)\n",
    "widget3d = gui.SceneWidget()\n",
    "w.add_child(widget3d)\n",
    "widget3d.scene = o3d.visualization.rendering.Open3DScene(w.renderer)\n",
    "\n",
    "# Add torus\n",
    "torus = o3d.geometry.TriangleMesh.create_torus()\n",
    "torus.compute_vertex_normals()\n",
    "#mat = o3d.visualization.rendering.Material()\n",
    "#mat.shader = \"defaultLit\"\n",
    "widget3d.scene.add_geometry(\"Torus\", torus)#, mat)\n",
    "\n",
    "# Add torus vertices\n",
    "pts = o3d.geometry.PointCloud(torus.vertices)\n",
    "#mat = o3d.visualization.rendering.Material()\n",
    "#mat.shader = \"defaultUnlit\"\n",
    "#mat.point_size = 5 * w.scaling\n",
    "#mat.base_color = (0, 0, 0, 1)\n",
    "widget3d.scene.add_geometry(\"Points\", pts)#, mat)\n",
    "\n",
    "\n",
    "# Add 3D labels\n",
    "for i in range(0, len(torus.vertices)):\n",
    "    widget3d.add_3d_label(torus.vertices[i], str(i))\n",
    "\n",
    "bounds = widget3d.scene.bounding_box\n",
    "widget3d.setup_camera(60, bounds, bounds.get_center())\n",
    "\n",
    "app.run()"
   ]
  },
  {
   "cell_type": "code",
   "execution_count": 9,
   "metadata": {},
   "outputs": [
    {
     "name": "stdout",
     "output_type": "stream",
     "text": [
      "Initializied Open3D GUI\n",
      "Initializied Open3D Point Cloud\n",
      "[Open3D INFO] Window window_6 created.\n"
     ]
    },
    {
     "ename": "KeyboardInterrupt",
     "evalue": "",
     "output_type": "error",
     "traceback": [
      "\u001b[0;31m---------------------------------------------------------------------------\u001b[0m",
      "\u001b[0;31mKeyboardInterrupt\u001b[0m                         Traceback (most recent call last)",
      "\u001b[1;32m/home/theodor/Code/XrSynth/OpenPCDet-linux/testing_testing.ipynb Cell 4'\u001b[0m in \u001b[0;36m<cell line: 26>\u001b[0;34m()\u001b[0m\n\u001b[1;32m     <a href='vscode-notebook-cell:/home/theodor/Code/XrSynth/OpenPCDet-linux/testing_testing.ipynb#ch0000003?line=23'>24</a>\u001b[0m     app\u001b[39m.\u001b[39madd_window(vis)\n\u001b[1;32m     <a href='vscode-notebook-cell:/home/theodor/Code/XrSynth/OpenPCDet-linux/testing_testing.ipynb#ch0000003?line=24'>25</a>\u001b[0m     app\u001b[39m.\u001b[39mrun()\n\u001b[0;32m---> <a href='vscode-notebook-cell:/home/theodor/Code/XrSynth/OpenPCDet-linux/testing_testing.ipynb#ch0000003?line=25'>26</a>\u001b[0m high_level()\n",
      "\u001b[1;32m/home/theodor/Code/XrSynth/OpenPCDet-linux/testing_testing.ipynb Cell 4'\u001b[0m in \u001b[0;36mhigh_level\u001b[0;34m()\u001b[0m\n\u001b[1;32m     <a href='vscode-notebook-cell:/home/theodor/Code/XrSynth/OpenPCDet-linux/testing_testing.ipynb#ch0000003?line=21'>22</a>\u001b[0m vis\u001b[39m.\u001b[39mreset_camera_to_default()\n\u001b[1;32m     <a href='vscode-notebook-cell:/home/theodor/Code/XrSynth/OpenPCDet-linux/testing_testing.ipynb#ch0000003?line=23'>24</a>\u001b[0m app\u001b[39m.\u001b[39madd_window(vis)\n\u001b[0;32m---> <a href='vscode-notebook-cell:/home/theodor/Code/XrSynth/OpenPCDet-linux/testing_testing.ipynb#ch0000003?line=24'>25</a>\u001b[0m app\u001b[39m.\u001b[39;49mrun()\n",
      "\u001b[0;31mKeyboardInterrupt\u001b[0m: "
     ]
    }
   ],
   "source": [
    "def make_point_cloud(npts, center, radius):\n",
    "    pts = np.random.uniform(-radius, radius, size=[npts, 3]) + center\n",
    "    cloud = o3d.geometry.PointCloud()\n",
    "    cloud.points = o3d.utility.Vector3dVector(pts)\n",
    "    colors = np.random.uniform(0.0, 1.0, size=[npts, 3])\n",
    "    cloud.colors = o3d.utility.Vector3dVector(colors)\n",
    "    return cloud\n",
    "\n",
    "\n",
    "def high_level():\n",
    "    app = gui.Application.instance\n",
    "    app.initialize()\n",
    "    print(\"Initializied Open3D GUI\")\n",
    "    points = make_point_cloud(1, (0, 0, 0), 1.0)\n",
    "    print(\"Initializied Open3D Point Cloud\")\n",
    "    vis = o3d.visualization.O3DVisualizer(\"Open3D - 3D Text\", 1024, 768)\n",
    "    vis.show_settings = True\n",
    "    vis.add_geometry(\"Points\", points)\n",
    "    for idx in range(0, len(points.points)):\n",
    "        vis.add_3d_label(points.points[idx], \"{}\".format(idx))\n",
    "\n",
    "    vis.reset_camera_to_default()\n",
    "    app.add_window(vis)\n",
    "    app.run()\n",
    "high_level()"
   ]
  },
  {
   "cell_type": "code",
   "execution_count": 108,
   "metadata": {},
   "outputs": [],
   "source": [
    "from itertools import compress\n",
    "import torch\n",
    "pred_dict = {\"pred_boxes\": torch.rand((20,9)), \"pred_labels\": torch.randint(0,10,(20,1)),\"pred_scores\": torch.rand((20,1))}\n",
    "#%timeit list(compress(pred_dict,pred_dict[\"pred_labels\"]==9))\n",
    "#%timeitnp.array(list(compress(pred_dict,pred_dict[\"pred_labels\"]==9)))"
   ]
  },
  {
   "cell_type": "code",
   "execution_count": 13,
   "metadata": {},
   "outputs": [
    {
     "name": "stdout",
     "output_type": "stream",
     "text": [
      "1.68 µs ± 10.9 ns per loop (mean ± std. dev. of 7 runs, 1,000,000 loops each)\n"
     ]
    }
   ],
   "source": [
    "%timeit np.array(list(compress(pred_dict,pred_dict[\"pred_labels\"]==9)))\n"
   ]
  },
  {
   "cell_type": "code",
   "execution_count": 24,
   "metadata": {},
   "outputs": [
    {
     "ename": "ValueError",
     "evalue": "The truth value of an array with more than one element is ambiguous. Use a.any() or a.all()",
     "output_type": "error",
     "traceback": [
      "\u001b[0;31m---------------------------------------------------------------------------\u001b[0m",
      "\u001b[0;31mValueError\u001b[0m                                Traceback (most recent call last)",
      "\u001b[1;32m/home/theodor/Code/XrSynth/OpenPCDet-linux/testing_testing.ipynb Cell 7'\u001b[0m in \u001b[0;36m<cell line: 1>\u001b[0;34m()\u001b[0m\n\u001b[0;32m----> <a href='vscode-notebook-cell:/home/theodor/Code/XrSynth/OpenPCDet-linux/testing_testing.ipynb#ch0000006?line=0'>1</a>\u001b[0m get_ipython()\u001b[39m.\u001b[39;49mrun_line_magic(\u001b[39m'\u001b[39;49m\u001b[39mtimeit\u001b[39;49m\u001b[39m'\u001b[39;49m, \u001b[39m'\u001b[39;49m\u001b[39m(np.array(list(compress(pred_dict[\u001b[39;49m\u001b[39m\"\u001b[39;49m\u001b[39mpred_boxes\u001b[39;49m\u001b[39m\"\u001b[39;49m\u001b[39m],pred_dict[\u001b[39;49m\u001b[39m\"\u001b[39;49m\u001b[39mpred_labels\u001b[39;49m\u001b[39m\"\u001b[39;49m\u001b[39m] in [9]))))\u001b[39;49m\u001b[39m'\u001b[39;49m)\n",
      "File \u001b[0;32m~/Code/XrSynth/env/lib/python3.9/site-packages/IPython/core/interactiveshell.py:2305\u001b[0m, in \u001b[0;36mInteractiveShell.run_line_magic\u001b[0;34m(self, magic_name, line, _stack_depth)\u001b[0m\n\u001b[1;32m   2303\u001b[0m     kwargs[\u001b[39m'\u001b[39m\u001b[39mlocal_ns\u001b[39m\u001b[39m'\u001b[39m] \u001b[39m=\u001b[39m \u001b[39mself\u001b[39m\u001b[39m.\u001b[39mget_local_scope(stack_depth)\n\u001b[1;32m   2304\u001b[0m \u001b[39mwith\u001b[39;00m \u001b[39mself\u001b[39m\u001b[39m.\u001b[39mbuiltin_trap:\n\u001b[0;32m-> 2305\u001b[0m     result \u001b[39m=\u001b[39m fn(\u001b[39m*\u001b[39;49margs, \u001b[39m*\u001b[39;49m\u001b[39m*\u001b[39;49mkwargs)\n\u001b[1;32m   2306\u001b[0m \u001b[39mreturn\u001b[39;00m result\n",
      "File \u001b[0;32m~/Code/XrSynth/env/lib/python3.9/site-packages/IPython/core/magics/execution.py:1162\u001b[0m, in \u001b[0;36mExecutionMagics.timeit\u001b[0;34m(self, line, cell, local_ns)\u001b[0m\n\u001b[1;32m   1160\u001b[0m \u001b[39mfor\u001b[39;00m index \u001b[39min\u001b[39;00m \u001b[39mrange\u001b[39m(\u001b[39m0\u001b[39m, \u001b[39m10\u001b[39m):\n\u001b[1;32m   1161\u001b[0m     number \u001b[39m=\u001b[39m \u001b[39m10\u001b[39m \u001b[39m*\u001b[39m\u001b[39m*\u001b[39m index\n\u001b[0;32m-> 1162\u001b[0m     time_number \u001b[39m=\u001b[39m timer\u001b[39m.\u001b[39;49mtimeit(number)\n\u001b[1;32m   1163\u001b[0m     \u001b[39mif\u001b[39;00m time_number \u001b[39m>\u001b[39m\u001b[39m=\u001b[39m \u001b[39m0.2\u001b[39m:\n\u001b[1;32m   1164\u001b[0m         \u001b[39mbreak\u001b[39;00m\n",
      "File \u001b[0;32m~/Code/XrSynth/env/lib/python3.9/site-packages/IPython/core/magics/execution.py:156\u001b[0m, in \u001b[0;36mTimer.timeit\u001b[0;34m(self, number)\u001b[0m\n\u001b[1;32m    154\u001b[0m gc\u001b[39m.\u001b[39mdisable()\n\u001b[1;32m    155\u001b[0m \u001b[39mtry\u001b[39;00m:\n\u001b[0;32m--> 156\u001b[0m     timing \u001b[39m=\u001b[39m \u001b[39mself\u001b[39;49m\u001b[39m.\u001b[39;49minner(it, \u001b[39mself\u001b[39;49m\u001b[39m.\u001b[39;49mtimer)\n\u001b[1;32m    157\u001b[0m \u001b[39mfinally\u001b[39;00m:\n\u001b[1;32m    158\u001b[0m     \u001b[39mif\u001b[39;00m gcold:\n",
      "File \u001b[0;32m<magic-timeit>:1\u001b[0m, in \u001b[0;36minner\u001b[0;34m(_it, _timer)\u001b[0m\n",
      "\u001b[0;31mValueError\u001b[0m: The truth value of an array with more than one element is ambiguous. Use a.any() or a.all()"
     ]
    }
   ],
   "source": [
    "%timeit (np.array(list(compress(pred_dict[\"pred_boxes\"],pred_dict[\"pred_labels\"] in [9]))))"
   ]
  },
  {
   "cell_type": "code",
   "execution_count": 110,
   "metadata": {},
   "outputs": [],
   "source": [
    "classes = [5,4,6,4]\n",
    "#%timeit indices = [np.nonzero(sum(pred_dict[\"pred_labels\"]==x for x in classes))[0].tolist()]"
   ]
  },
  {
   "cell_type": "code",
   "execution_count": 111,
   "metadata": {},
   "outputs": [
    {
     "name": "stdout",
     "output_type": "stream",
     "text": [
      "7.27 µs ± 112 ns per loop (mean ± std. dev. of 7 runs, 100,000 loops each)\n"
     ]
    }
   ],
   "source": [
    "indices = [np.nonzero(sum(pred_dict[\"pred_labels\"]==x for x in classes))[0].tolist()]\n",
    "%timeit pred_dict[\"pred_boxes\"][indices,:].tolist()"
   ]
  },
  {
   "cell_type": "code",
   "execution_count": 83,
   "metadata": {},
   "outputs": [],
   "source": [
    "import json\n",
    "import time\n",
    "from copy import copy"
   ]
  },
  {
   "cell_type": "code",
   "execution_count": 175,
   "metadata": {},
   "outputs": [
    {
     "name": "stdout",
     "output_type": "stream",
     "text": [
      "(6, 9)\n",
      "(6, 1)\n",
      "(6, 1)\n"
     ]
    }
   ],
   "source": [
    "def send():\n",
    "    pred_dict = {\"pred_boxes\": torch.rand((20,9)), \"pred_labels\": torch.randint(0,10,(20,1)),\"pred_scores\": torch.rand((20,1))}\n",
    "    if isinstance(pred_dict[\"pred_labels\"],torch.Tensor):\n",
    "        pred_dict[\"pred_labels\"] = pred_dict[\"pred_labels\"].cpu().numpy()\n",
    "    classes = [4,5,6]\n",
    "    indices = np.nonzero(sum(pred_dict[\"pred_labels\"]==x for x in classes))[0].tolist()\n",
    "    pred_dict[\"pred_boxes\"] = pred_dict[\"pred_boxes\"][indices,:].tolist()\n",
    "    pred_dict[\"pred_labels\"] = pred_dict[\"pred_labels\"][indices,:].tolist()\n",
    "    pred_dict[\"pred_scores\"] = pred_dict[\"pred_scores\"][indices,:].tolist()\n",
    "    for key,value in pred_dict.items():\n",
    "        print(np.shape(value))\n",
    "    data = json.dumps(pred_dict).encode('utf-8')\n",
    "send()"
   ]
  },
  {
   "cell_type": "code",
   "execution_count": 170,
   "metadata": {},
   "outputs": [
    {
     "name": "stdout",
     "output_type": "stream",
     "text": [
      "[1, 2, 3, 4, 5, 6, 7, 8, 9, 10, 11, 12, 13, 14, 15, 16, 17, 18, 19]\n",
      "(19, 11)\n",
      "0.0009610652923583984\n"
     ]
    }
   ],
   "source": [
    "pred_dict = {\"pred_boxes\": torch.rand((20,9)), \"pred_labels\": np.random.randint(0,10,(20,1)),\"pred_scores\": torch.rand((20,1))}\n",
    "if isinstance(pred_dict[\"pred_labels\"],torch.Tensor):\n",
    "    pred_dict[\"pred_labels\"] = pred_dict[\"pred_labels\"].cpu().numpy()\n",
    "pcd = np.random.random((80000,3))\n",
    "classes = [1,2,3,4,5,6,7,8]\n",
    "start = time.time()\n",
    "indices = np.nonzero(sum(pred_dict[\"pred_labels\"]==x for x in classes))[0].tolist()\n",
    "print(indices)\n",
    "#print(indices)\n",
    "#print(pred_dict[\"pred_boxes\"][indices,:].shape)\n",
    "#print(pred_dict[\"pred_labels\"][indices,:].shape)\n",
    "#print(pred_dict[\"pred_scores\"][indices,:].shape)\n",
    "\n",
    "pred_send = np.concatenate((pred_dict[\"pred_boxes\"][indices,:],pred_dict[\"pred_labels\"][indices,:],pred_dict[\"pred_scores\"][indices,:]),axis=1)\n",
    "print(pred_send.shape)\n",
    "print(time.time()-start)\n"
   ]
  },
  {
   "cell_type": "code",
   "execution_count": 155,
   "metadata": {},
   "outputs": [],
   "source": [
    "pcd = np.random.random((80000,3))"
   ]
  },
  {
   "cell_type": "code",
   "execution_count": 87,
   "metadata": {},
   "outputs": [
    {
     "name": "stdout",
     "output_type": "stream",
     "text": [
      "55.4 µs ± 530 ns per loop (mean ± std. dev. of 7 runs, 10,000 loops each)\n"
     ]
    }
   ],
   "source": []
  },
  {
   "cell_type": "code",
   "execution_count": 88,
   "metadata": {},
   "outputs": [
    {
     "data": {
      "text/plain": [
       "1805.0541516245487"
      ]
     },
     "execution_count": 88,
     "metadata": {},
     "output_type": "execute_result"
    }
   ],
   "source": []
  },
  {
   "cell_type": "code",
   "execution_count": null,
   "metadata": {},
   "outputs": [],
   "source": []
  }
 ],
 "metadata": {
  "kernelspec": {
   "display_name": "Python 3.9.13 ('env': venv)",
   "language": "python",
   "name": "python3"
  },
  "language_info": {
   "codemirror_mode": {
    "name": "ipython",
    "version": 3
   },
   "file_extension": ".py",
   "mimetype": "text/x-python",
   "name": "python",
   "nbconvert_exporter": "python",
   "pygments_lexer": "ipython3",
   "version": "3.9.13"
  },
  "orig_nbformat": 4,
  "vscode": {
   "interpreter": {
    "hash": "9e808e691a491dbb6771240d1c867d8180cf65a7312da86e6e96bad0ad6dc92c"
   }
  }
 },
 "nbformat": 4,
 "nbformat_minor": 2
}
